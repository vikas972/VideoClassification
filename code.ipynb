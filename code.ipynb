{
  "nbformat": 4,
  "nbformat_minor": 0,
  "metadata": {
    "colab": {
      "name": "code.ipynb",
      "provenance": [],
      "collapsed_sections": [],
      "authorship_tag": "ABX9TyOTAHrimhD5XS3rrDlkwnFa",
      "include_colab_link": true
    },
    "kernelspec": {
      "name": "python3",
      "display_name": "Python 3"
    },
    "language_info": {
      "name": "python"
    }
  },
  "cells": [
    {
      "cell_type": "markdown",
      "metadata": {
        "id": "view-in-github",
        "colab_type": "text"
      },
      "source": [
        "<a href=\"https://colab.research.google.com/github/vikas972/VideoClassification/blob/main/code.ipynb\" target=\"_parent\"><img src=\"https://colab.research.google.com/assets/colab-badge.svg\" alt=\"Open In Colab\"/></a>"
      ]
    },
    {
      "cell_type": "code",
      "metadata": {
        "id": "NeUK_y1BdDqF",
        "colab": {
          "resources": {
            "http://localhost:8080/nbextensions/google.colab/files.js": {
              "data": "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",
              "ok": true,
              "headers": [
                [
                  "content-type",
                  "application/javascript"
                ]
              ],
              "status": 200,
              "status_text": ""
            }
          },
          "base_uri": "https://localhost:8080/",
          "height": 72
        },
        "outputId": "99e49687-8f48-4fa5-a224-f69aa0d08d1b"
      },
      "source": [
        "from google.colab import files\n",
        "uploaded = files.upload()"
      ],
      "execution_count": 1,
      "outputs": [
        {
          "output_type": "display_data",
          "data": {
            "text/html": [
              "\n",
              "     <input type=\"file\" id=\"files-7181415e-3a56-4e1b-9100-7406c2bb507d\" name=\"files[]\" multiple disabled\n",
              "        style=\"border:none\" />\n",
              "     <output id=\"result-7181415e-3a56-4e1b-9100-7406c2bb507d\">\n",
              "      Upload widget is only available when the cell has been executed in the\n",
              "      current browser session. Please rerun this cell to enable.\n",
              "      </output>\n",
              "      <script src=\"/nbextensions/google.colab/files.js\"></script> "
            ],
            "text/plain": [
              "<IPython.core.display.HTML object>"
            ]
          },
          "metadata": {
            "tags": []
          }
        },
        {
          "output_type": "stream",
          "text": [
            "Saving Tom and jerry.mp4 to Tom and jerry.mp4\n"
          ],
          "name": "stdout"
        }
      ]
    },
    {
      "cell_type": "code",
      "metadata": {
        "id": "2EfdBX-jjcJh"
      },
      "source": [
        "from google.colab import drive\n",
        "drive.mount('/content/gdrive')"
      ],
      "execution_count": null,
      "outputs": []
    },
    {
      "cell_type": "code",
      "metadata": {
        "id": "OtsQsFnAjipR"
      },
      "source": [
        "import cv2     # for capturing videos\n",
        "import math   # for mathematical operations\n",
        "import matplotlib.pyplot as plt    # for plotting the images\n",
        "%matplotlib inline\n",
        "import pandas as pd\n",
        "from keras.preprocessing import image   # for preprocessing the images\n",
        "import numpy as np    # for mathematical operations\n",
        "from keras.utils import np_utils\n",
        "from skimage.transform import resize   # for resizing images"
      ],
      "execution_count": 2,
      "outputs": []
    },
    {
      "cell_type": "code",
      "metadata": {
        "colab": {
          "base_uri": "https://localhost:8080/"
        },
        "id": "P39LLK4vjppN",
        "outputId": "3a787c95-6b19-4234-f6f5-e447bc68ec16"
      },
      "source": [
        "count = 0\n",
        "videoFile = \"Tom and jerry.mp4\"\n",
        "cap = cv2.VideoCapture(videoFile)   # capturing the video from the given path\n",
        "frameRate = cap.get(5) #frame rate\n",
        "x=1\n",
        "while(cap.isOpened()):\n",
        "    frameId = cap.get(1) #current frame number\n",
        "    ret, frame = cap.read()\n",
        "    if (ret != True):\n",
        "        break\n",
        "    if (frameId % math.floor(frameRate) == 0):\n",
        "        filename =\"frame%d.jpg\" % count;count+=1\n",
        "        cv2.imwrite(filename, frame)\n",
        "cap.release()\n",
        "print (\"Done!\")"
      ],
      "execution_count": 3,
      "outputs": [
        {
          "output_type": "stream",
          "text": [
            "Done!\n"
          ],
          "name": "stdout"
        }
      ]
    },
    {
      "cell_type": "code",
      "metadata": {
        "colab": {
          "base_uri": "https://localhost:8080/",
          "height": 257
        },
        "id": "lG8IP8-QkFNS",
        "outputId": "b02ea801-b9a8-441e-91df-2b0485cefd38"
      },
      "source": [
        "img = plt.imread('frame0.jpg')   # reading image using its name\n",
        "plt.imshow(img)"
      ],
      "execution_count": 4,
      "outputs": [
        {
          "output_type": "execute_result",
          "data": {
            "text/plain": [
              "<matplotlib.image.AxesImage at 0x7f920019f590>"
            ]
          },
          "metadata": {
            "tags": []
          },
          "execution_count": 4
        },
        {
          "output_type": "display_data",
          "data": {
            "image/png": "[encoded data removed]",
            "text/plain": [
              "<Figure size 432x288 with 1 Axes>"
            ]
          },
          "metadata": {
            "tags": [],
            "needs_background": "light"
          }
        }
      ]
    },
    {
      "cell_type": "code",
      "metadata": {
        "colab": {
          "base_uri": "https://localhost:8080/",
          "height": 204
        },
        "id": "5qs4JMLwkfhs",
        "outputId": "92c6cc66-5bea-4e0f-c3a8-2bce16eeb33d"
      },
      "source": [
        "data = pd.read_csv('mapping.csv')     # reading the csv file\n",
        "data.head()      # printing first five rows of the file"
      ],
      "execution_count": 5,
      "outputs": [
        {
          "output_type": "execute_result",
          "data": {
            "text/html": [
              "<div>\n",
              "<style scoped>\n",
              "    .dataframe tbody tr th:only-of-type {\n",
              "        vertical-align: middle;\n",
              "    }\n",
              "\n",
              "    .dataframe tbody tr th {\n",
              "        vertical-align: top;\n",
              "    }\n",
              "\n",
              "    .dataframe thead th {\n",
              "        text-align: right;\n",
              "    }\n",
              "</style>\n",
              "<table border=\"1\" class=\"dataframe\">\n",
              "  <thead>\n",
              "    <tr style=\"text-align: right;\">\n",
              "      <th></th>\n",
              "      <th>Image_ID</th>\n",
              "      <th>Class</th>\n",
              "    </tr>\n",
              "  </thead>\n",
              "  <tbody>\n",
              "    <tr>\n",
              "      <th>0</th>\n",
              "      <td>frame0.jpg</td>\n",
              "      <td>1</td>\n",
              "    </tr>\n",
              "    <tr>\n",
              "      <th>1</th>\n",
              "      <td>frame1.jpg</td>\n",
              "      <td>1</td>\n",
              "    </tr>\n",
              "    <tr>\n",
              "      <th>2</th>\n",
              "      <td>frame2.jpg</td>\n",
              "      <td>2</td>\n",
              "    </tr>\n",
              "    <tr>\n",
              "      <th>3</th>\n",
              "      <td>frame3.jpg</td>\n",
              "      <td>2</td>\n",
              "    </tr>\n",
              "    <tr>\n",
              "      <th>4</th>\n",
              "      <td>frame4.jpg</td>\n",
              "      <td>2</td>\n",
              "    </tr>\n",
              "  </tbody>\n",
              "</table>\n",
              "</div>"
            ],
            "text/plain": [
              "     Image_ID  Class\n",
              "0  frame0.jpg      1\n",
              "1  frame1.jpg      1\n",
              "2  frame2.jpg      2\n",
              "3  frame3.jpg      2\n",
              "4  frame4.jpg      2"
            ]
          },
          "metadata": {
            "tags": []
          },
          "execution_count": 5
        }
      ]
    },
    {
      "cell_type": "code",
      "metadata": {
        "id": "Lx1hSrXmkv2R"
      },
      "source": [
        "X = [ ]     # creating an empty array\n",
        "for img_name in data.Image_ID:\n",
        "    img = plt.imread('' + img_name)\n",
        "    X.append(img)  # storing each image in array X\n",
        "X = np.array(X)    # converting list to array"
      ],
      "execution_count": 6,
      "outputs": []
    },
    {
      "cell_type": "code",
      "metadata": {
        "id": "zMW6vJkGk2q1"
      },
      "source": [
        "y = data.Class\n",
        "dummy_y = np_utils.to_categorical(y)    # one hot encoding Classes"
      ],
      "execution_count": 8,
      "outputs": []
    },
    {
      "cell_type": "code",
      "metadata": {
        "id": "B6yMA6C8lJRm"
      },
      "source": [
        "image = []\n",
        "for i in range(0,X.shape[0]):\n",
        "    a = resize(X[i], preserve_range=True, output_shape=(224,224)).astype(int)      # reshaping to 224*224*3\n",
        "    image.append(a)\n",
        "X = np.array(image)"
      ],
      "execution_count": 9,
      "outputs": []
    },
    {
      "cell_type": "code",
      "metadata": {
        "id": "JINJ2IyblSph"
      },
      "source": [
        "from keras.applications.vgg16 import preprocess_input\n",
        "X = preprocess_input(X)      # preprocessing the input data"
      ],
      "execution_count": 11,
      "outputs": []
    },
    {
      "cell_type": "code",
      "metadata": {
        "id": "Y1KFCwRklr4E"
      },
      "source": [
        "from sklearn.model_selection import train_test_split\n",
        "X_train, X_valid, y_train, y_valid = train_test_split(X, dummy_y, test_size=0.3, random_state=42)    # preparing the validation set"
      ],
      "execution_count": 12,
      "outputs": []
    },
    {
      "cell_type": "code",
      "metadata": {
        "id": "zNMOBloRlz6L"
      },
      "source": [
        ""
      ],
      "execution_count": null,
      "outputs": []
    },
    {
      "cell_type": "code",
      "metadata": {
        "id": "U4J4Shejl2nT"
      },
      "source": [
        "from keras.models import Sequential\n",
        "from keras.applications.vgg16 import VGG16\n",
        "from keras.layers import Dense, InputLayer, Dropout"
      ],
      "execution_count": 13,
      "outputs": []
    },
    {
      "cell_type": "code",
      "metadata": {
        "colab": {
          "base_uri": "https://localhost:8080/"
        },
        "id": "J5vAgfTml4SI",
        "outputId": "39bbfbe2-061b-4d85-f6ec-c22ddee63adc"
      },
      "source": [
        "base_model = VGG16(weights='imagenet', include_top=False, input_shape=(224, 224, 3))    # include_top=False to remove the top layer"
      ],
      "execution_count": 14,
      "outputs": [
        {
          "output_type": "stream",
          "text": [
            "Downloading data from https://storage.googleapis.com/tensorflow/keras-applications/vgg16/vgg16_weights_tf_dim_ordering_tf_kernels_notop.h5\n",
            "58892288/58889256 [==============================] - 0s 0us/step\n"
          ],
          "name": "stdout"
        }
      ]
    },
    {
      "cell_type": "code",
      "metadata": {
        "colab": {
          "base_uri": "https://localhost:8080/"
        },
        "id": "eygcXuGJmbVO",
        "outputId": "83f4a9e0-a9f9-4bce-e2c9-a5877479d777"
      },
      "source": [
        "X_train = base_model.predict(X_train)\n",
        "X_valid = base_model.predict(X_valid)\n",
        "X_train.shape, X_valid.shape"
      ],
      "execution_count": 15,
      "outputs": [
        {
          "output_type": "execute_result",
          "data": {
            "text/plain": [
              "((208, 7, 7, 512), (90, 7, 7, 512))"
            ]
          },
          "metadata": {
            "tags": []
          },
          "execution_count": 15
        }
      ]
    },
    {
      "cell_type": "code",
      "metadata": {
        "id": "HbIRcaA-nShv"
      },
      "source": [
        "X_train = X_train.reshape(208, 7*7*512)      # converting to 1-D\n",
        "X_valid = X_valid.reshape(90, 7*7*512)"
      ],
      "execution_count": 16,
      "outputs": []
    },
    {
      "cell_type": "code",
      "metadata": {
        "id": "HPrufdAznbVU"
      },
      "source": [
        "train = X_train/X_train.max()      # centering the data\n",
        "X_valid = X_valid/X_train.max()"
      ],
      "execution_count": 17,
      "outputs": []
    },
    {
      "cell_type": "code",
      "metadata": {
        "id": "LTfIrtefne6U"
      },
      "source": [
        "# i. Building the model\n",
        "model = Sequential()\n",
        "model.add(InputLayer((7*7*512,)))    # input layer\n",
        "model.add(Dense(units=1024, activation='sigmoid')) # hidden layer\n",
        "model.add(Dense(3, activation='softmax'))    # output layer"
      ],
      "execution_count": 18,
      "outputs": []
    },
    {
      "cell_type": "code",
      "metadata": {
        "colab": {
          "base_uri": "https://localhost:8080/"
        },
        "id": "fiYX78FZnjto",
        "outputId": "b2501981-7a78-416c-a099-1623cdab03a7"
      },
      "source": [
        "model.summary()"
      ],
      "execution_count": 19,
      "outputs": [
        {
          "output_type": "stream",
          "text": [
            "Model: \"sequential\"\n",
            "_________________________________________________________________\n",
            "Layer (type)                 Output Shape              Param #   \n",
            "=================================================================\n",
            "dense (Dense)                (None, 1024)              25691136  \n",
            "_________________________________________________________________\n",
            "dense_1 (Dense)              (None, 3)                 3075      \n",
            "=================================================================\n",
            "Total params: 25,694,211\n",
            "Trainable params: 25,694,211\n",
            "Non-trainable params: 0\n",
            "_________________________________________________________________\n"
          ],
          "name": "stdout"
        }
      ]
    },
    {
      "cell_type": "code",
      "metadata": {
        "id": "W1V7X1p2nlCh"
      },
      "source": [
        "# ii. Compiling the model\n",
        "model.compile(loss='categorical_crossentropy', optimizer='adam', metrics=['accuracy'])"
      ],
      "execution_count": 20,
      "outputs": []
    },
    {
      "cell_type": "code",
      "metadata": {
        "colab": {
          "base_uri": "https://localhost:8080/"
        },
        "id": "1Vgegp11nlPm",
        "outputId": "d0187f18-ba7c-4101-d5dc-f7971ba78b57"
      },
      "source": [
        "# iii. Training the model\n",
        "model.fit(train, y_train, epochs=100, validation_data=(X_valid, y_valid))"
      ],
      "execution_count": 21,
      "outputs": [
        {
          "output_type": "stream",
          "text": [
            "Epoch 1/100\n",
            "7/7 [==============================] - 2s 186ms/step - loss: 0.9100 - accuracy: 0.6064 - val_loss: 0.5709 - val_accuracy: 0.8111\n",
            "Epoch 2/100\n",
            "7/7 [==============================] - 1s 154ms/step - loss: 0.2754 - accuracy: 0.9419 - val_loss: 0.3542 - val_accuracy: 0.8889\n",
            "Epoch 3/100\n",
            "7/7 [==============================] - 1s 158ms/step - loss: 0.1158 - accuracy: 0.9951 - val_loss: 0.2838 - val_accuracy: 0.9111\n",
            "Epoch 4/100\n",
            "7/7 [==============================] - 1s 158ms/step - loss: 0.0618 - accuracy: 0.9963 - val_loss: 0.2928 - val_accuracy: 0.8778\n",
            "Epoch 5/100\n",
            "7/7 [==============================] - 1s 155ms/step - loss: 0.0423 - accuracy: 0.9892 - val_loss: 0.2700 - val_accuracy: 0.9000\n",
            "Epoch 6/100\n",
            "7/7 [==============================] - 1s 157ms/step - loss: 0.0307 - accuracy: 0.9931 - val_loss: 0.2498 - val_accuracy: 0.9222\n",
            "Epoch 7/100\n",
            "7/7 [==============================] - 1s 156ms/step - loss: 0.0250 - accuracy: 0.9915 - val_loss: 0.2470 - val_accuracy: 0.9111\n",
            "Epoch 8/100\n",
            "7/7 [==============================] - 1s 155ms/step - loss: 0.0210 - accuracy: 0.9913 - val_loss: 0.2475 - val_accuracy: 0.9111\n",
            "Epoch 9/100\n",
            "7/7 [==============================] - 1s 156ms/step - loss: 0.0188 - accuracy: 0.9988 - val_loss: 0.2553 - val_accuracy: 0.9000\n",
            "Epoch 10/100\n",
            "7/7 [==============================] - 1s 156ms/step - loss: 0.0176 - accuracy: 0.9974 - val_loss: 0.2771 - val_accuracy: 0.8778\n",
            "Epoch 11/100\n",
            "7/7 [==============================] - 1s 155ms/step - loss: 0.0143 - accuracy: 0.9981 - val_loss: 0.2517 - val_accuracy: 0.9000\n",
            "Epoch 12/100\n",
            "7/7 [==============================] - 1s 156ms/step - loss: 0.0209 - accuracy: 0.9931 - val_loss: 0.2282 - val_accuracy: 0.9222\n",
            "Epoch 13/100\n",
            "7/7 [==============================] - 1s 155ms/step - loss: 0.0250 - accuracy: 0.9892 - val_loss: 0.2409 - val_accuracy: 0.9222\n",
            "Epoch 14/100\n",
            "7/7 [==============================] - 1s 156ms/step - loss: 0.0169 - accuracy: 0.9974 - val_loss: 0.2528 - val_accuracy: 0.9111\n",
            "Epoch 15/100\n",
            "7/7 [==============================] - 1s 158ms/step - loss: 0.0105 - accuracy: 0.9981 - val_loss: 0.2734 - val_accuracy: 0.8778\n",
            "Epoch 16/100\n",
            "7/7 [==============================] - 1s 154ms/step - loss: 0.0157 - accuracy: 0.9931 - val_loss: 0.2338 - val_accuracy: 0.9222\n",
            "Epoch 17/100\n",
            "7/7 [==============================] - 1s 157ms/step - loss: 0.0093 - accuracy: 0.9981 - val_loss: 0.2326 - val_accuracy: 0.9222\n",
            "Epoch 18/100\n",
            "7/7 [==============================] - 1s 157ms/step - loss: 0.0163 - accuracy: 0.9913 - val_loss: 0.2803 - val_accuracy: 0.8778\n",
            "Epoch 19/100\n",
            "7/7 [==============================] - 1s 157ms/step - loss: 0.0076 - accuracy: 0.9981 - val_loss: 0.2537 - val_accuracy: 0.8889\n",
            "Epoch 20/100\n",
            "7/7 [==============================] - 1s 159ms/step - loss: 0.0190 - accuracy: 0.9874 - val_loss: 0.2340 - val_accuracy: 0.9222\n",
            "Epoch 21/100\n",
            "7/7 [==============================] - 1s 156ms/step - loss: 0.0144 - accuracy: 0.9919 - val_loss: 0.2763 - val_accuracy: 0.8778\n",
            "Epoch 22/100\n",
            "7/7 [==============================] - 1s 155ms/step - loss: 0.0065 - accuracy: 0.9988 - val_loss: 0.2348 - val_accuracy: 0.9222\n",
            "Epoch 23/100\n",
            "7/7 [==============================] - 1s 158ms/step - loss: 0.0095 - accuracy: 0.9974 - val_loss: 0.2879 - val_accuracy: 0.8778\n",
            "Epoch 24/100\n",
            "7/7 [==============================] - 1s 156ms/step - loss: 0.0111 - accuracy: 0.9964 - val_loss: 0.2565 - val_accuracy: 0.8889\n",
            "Epoch 25/100\n",
            "7/7 [==============================] - 1s 156ms/step - loss: 0.0102 - accuracy: 0.9925 - val_loss: 0.2340 - val_accuracy: 0.9333\n",
            "Epoch 26/100\n",
            "7/7 [==============================] - 1s 155ms/step - loss: 0.0086 - accuracy: 0.9964 - val_loss: 0.2502 - val_accuracy: 0.9000\n",
            "Epoch 27/100\n",
            "7/7 [==============================] - 1s 156ms/step - loss: 0.0145 - accuracy: 0.9974 - val_loss: 0.2677 - val_accuracy: 0.8889\n",
            "Epoch 28/100\n",
            "7/7 [==============================] - 1s 155ms/step - loss: 0.0142 - accuracy: 0.9905 - val_loss: 0.2359 - val_accuracy: 0.9333\n",
            "Epoch 29/100\n",
            "7/7 [==============================] - 1s 158ms/step - loss: 0.0128 - accuracy: 0.9913 - val_loss: 0.2600 - val_accuracy: 0.8889\n",
            "Epoch 30/100\n",
            "7/7 [==============================] - 1s 157ms/step - loss: 0.0107 - accuracy: 0.9974 - val_loss: 0.2463 - val_accuracy: 0.9111\n",
            "Epoch 31/100\n",
            "7/7 [==============================] - 1s 157ms/step - loss: 0.0173 - accuracy: 0.9892 - val_loss: 0.2309 - val_accuracy: 0.9333\n",
            "Epoch 32/100\n",
            "7/7 [==============================] - 1s 155ms/step - loss: 0.0082 - accuracy: 0.9981 - val_loss: 0.2370 - val_accuracy: 0.9222\n",
            "Epoch 33/100\n",
            "7/7 [==============================] - 1s 157ms/step - loss: 0.0060 - accuracy: 0.9981 - val_loss: 0.2830 - val_accuracy: 0.8778\n",
            "Epoch 34/100\n",
            "7/7 [==============================] - 1s 159ms/step - loss: 0.0083 - accuracy: 0.9964 - val_loss: 0.2537 - val_accuracy: 0.9000\n",
            "Epoch 35/100\n",
            "7/7 [==============================] - 1s 160ms/step - loss: 0.0098 - accuracy: 0.9913 - val_loss: 0.2528 - val_accuracy: 0.9000\n",
            "Epoch 36/100\n",
            "7/7 [==============================] - 1s 155ms/step - loss: 0.0078 - accuracy: 0.9981 - val_loss: 0.2365 - val_accuracy: 0.9333\n",
            "Epoch 37/100\n",
            "7/7 [==============================] - 1s 162ms/step - loss: 0.0115 - accuracy: 0.9951 - val_loss: 0.2918 - val_accuracy: 0.8778\n",
            "Epoch 38/100\n",
            "7/7 [==============================] - 1s 158ms/step - loss: 0.0112 - accuracy: 0.9964 - val_loss: 0.2795 - val_accuracy: 0.8889\n",
            "Epoch 39/100\n",
            "7/7 [==============================] - 1s 157ms/step - loss: 0.0045 - accuracy: 0.9988 - val_loss: 0.2448 - val_accuracy: 0.9333\n",
            "Epoch 40/100\n",
            "7/7 [==============================] - 1s 158ms/step - loss: 0.0138 - accuracy: 0.9951 - val_loss: 0.2266 - val_accuracy: 0.9333\n",
            "Epoch 41/100\n",
            "7/7 [==============================] - 1s 157ms/step - loss: 0.0092 - accuracy: 0.9974 - val_loss: 0.2424 - val_accuracy: 0.9333\n",
            "Epoch 42/100\n",
            "7/7 [==============================] - 1s 159ms/step - loss: 0.0212 - accuracy: 0.9843 - val_loss: 0.3150 - val_accuracy: 0.8667\n",
            "Epoch 43/100\n",
            "7/7 [==============================] - 1s 158ms/step - loss: 0.0088 - accuracy: 0.9974 - val_loss: 0.2804 - val_accuracy: 0.8778\n",
            "Epoch 44/100\n",
            "7/7 [==============================] - 1s 159ms/step - loss: 0.0058 - accuracy: 0.9981 - val_loss: 0.2497 - val_accuracy: 0.9222\n",
            "Epoch 45/100\n",
            "7/7 [==============================] - 1s 159ms/step - loss: 0.0099 - accuracy: 1.0000 - val_loss: 0.2321 - val_accuracy: 0.9333\n",
            "Epoch 46/100\n",
            "7/7 [==============================] - 1s 159ms/step - loss: 0.0075 - accuracy: 0.9974 - val_loss: 0.2352 - val_accuracy: 0.9333\n",
            "Epoch 47/100\n",
            "7/7 [==============================] - 1s 157ms/step - loss: 0.0106 - accuracy: 0.9951 - val_loss: 0.2677 - val_accuracy: 0.8889\n",
            "Epoch 48/100\n",
            "7/7 [==============================] - 1s 156ms/step - loss: 0.0126 - accuracy: 0.9974 - val_loss: 0.2907 - val_accuracy: 0.8778\n",
            "Epoch 49/100\n",
            "7/7 [==============================] - 1s 157ms/step - loss: 0.0142 - accuracy: 0.9895 - val_loss: 0.2377 - val_accuracy: 0.9333\n",
            "Epoch 50/100\n",
            "7/7 [==============================] - 1s 155ms/step - loss: 0.0155 - accuracy: 0.9931 - val_loss: 0.2537 - val_accuracy: 0.9111\n",
            "Epoch 51/100\n",
            "7/7 [==============================] - 1s 156ms/step - loss: 0.0133 - accuracy: 0.9843 - val_loss: 0.2681 - val_accuracy: 0.8889\n",
            "Epoch 52/100\n",
            "7/7 [==============================] - 1s 156ms/step - loss: 0.0088 - accuracy: 0.9939 - val_loss: 0.2559 - val_accuracy: 0.9111\n",
            "Epoch 53/100\n",
            "7/7 [==============================] - 1s 155ms/step - loss: 0.0074 - accuracy: 0.9974 - val_loss: 0.2887 - val_accuracy: 0.8778\n",
            "Epoch 54/100\n",
            "7/7 [==============================] - 1s 157ms/step - loss: 0.0237 - accuracy: 0.9866 - val_loss: 0.2378 - val_accuracy: 0.9333\n",
            "Epoch 55/100\n",
            "7/7 [==============================] - 1s 161ms/step - loss: 0.0119 - accuracy: 0.9895 - val_loss: 0.2570 - val_accuracy: 0.9111\n",
            "Epoch 56/100\n",
            "7/7 [==============================] - 1s 156ms/step - loss: 0.0045 - accuracy: 0.9981 - val_loss: 0.2571 - val_accuracy: 0.9111\n",
            "Epoch 57/100\n",
            "7/7 [==============================] - 1s 156ms/step - loss: 0.0088 - accuracy: 0.9964 - val_loss: 0.2432 - val_accuracy: 0.9333\n",
            "Epoch 58/100\n",
            "7/7 [==============================] - 1s 158ms/step - loss: 0.0153 - accuracy: 0.9892 - val_loss: 0.2450 - val_accuracy: 0.9333\n",
            "Epoch 59/100\n",
            "7/7 [==============================] - 1s 158ms/step - loss: 0.0144 - accuracy: 0.9931 - val_loss: 0.2612 - val_accuracy: 0.9000\n",
            "Epoch 60/100\n",
            "7/7 [==============================] - 1s 160ms/step - loss: 0.0125 - accuracy: 0.9866 - val_loss: 0.2624 - val_accuracy: 0.9000\n",
            "Epoch 61/100\n",
            "7/7 [==============================] - 1s 157ms/step - loss: 0.0068 - accuracy: 0.9981 - val_loss: 0.2918 - val_accuracy: 0.8778\n",
            "Epoch 62/100\n",
            "7/7 [==============================] - 1s 156ms/step - loss: 0.0064 - accuracy: 0.9952 - val_loss: 0.2496 - val_accuracy: 0.9333\n",
            "Epoch 63/100\n",
            "7/7 [==============================] - 1s 160ms/step - loss: 0.0066 - accuracy: 0.9964 - val_loss: 0.2854 - val_accuracy: 0.8889\n",
            "Epoch 64/100\n",
            "7/7 [==============================] - 1s 155ms/step - loss: 0.0187 - accuracy: 0.9866 - val_loss: 0.2570 - val_accuracy: 0.9111\n",
            "Epoch 65/100\n",
            "7/7 [==============================] - 1s 157ms/step - loss: 0.0123 - accuracy: 0.9874 - val_loss: 0.2862 - val_accuracy: 0.8889\n",
            "Epoch 66/100\n",
            "7/7 [==============================] - 1s 156ms/step - loss: 0.0068 - accuracy: 0.9964 - val_loss: 0.2412 - val_accuracy: 0.9333\n",
            "Epoch 67/100\n",
            "7/7 [==============================] - 1s 157ms/step - loss: 0.0148 - accuracy: 0.9951 - val_loss: 0.2412 - val_accuracy: 0.9333\n",
            "Epoch 68/100\n",
            "7/7 [==============================] - 1s 159ms/step - loss: 0.0053 - accuracy: 0.9981 - val_loss: 0.2579 - val_accuracy: 0.9111\n",
            "Epoch 69/100\n",
            "7/7 [==============================] - 1s 156ms/step - loss: 0.0158 - accuracy: 0.9866 - val_loss: 0.3177 - val_accuracy: 0.8667\n",
            "Epoch 70/100\n",
            "7/7 [==============================] - 1s 156ms/step - loss: 0.0263 - accuracy: 0.9892 - val_loss: 0.2451 - val_accuracy: 0.9333\n",
            "Epoch 71/100\n",
            "7/7 [==============================] - 1s 157ms/step - loss: 0.0085 - accuracy: 0.9964 - val_loss: 0.2532 - val_accuracy: 0.9333\n",
            "Epoch 72/100\n",
            "7/7 [==============================] - 1s 155ms/step - loss: 0.0039 - accuracy: 0.9988 - val_loss: 0.2739 - val_accuracy: 0.8889\n",
            "Epoch 73/100\n",
            "7/7 [==============================] - 1s 156ms/step - loss: 0.0079 - accuracy: 0.9951 - val_loss: 0.2394 - val_accuracy: 0.9333\n",
            "Epoch 74/100\n",
            "7/7 [==============================] - 1s 160ms/step - loss: 0.0156 - accuracy: 0.9931 - val_loss: 0.2618 - val_accuracy: 0.9111\n",
            "Epoch 75/100\n",
            "7/7 [==============================] - 1s 155ms/step - loss: 0.0089 - accuracy: 0.9988 - val_loss: 0.2607 - val_accuracy: 0.9222\n",
            "Epoch 76/100\n",
            "7/7 [==============================] - 1s 155ms/step - loss: 0.0077 - accuracy: 0.9981 - val_loss: 0.3781 - val_accuracy: 0.8556\n",
            "Epoch 77/100\n",
            "7/7 [==============================] - 1s 159ms/step - loss: 0.0070 - accuracy: 0.9981 - val_loss: 0.3048 - val_accuracy: 0.8778\n",
            "Epoch 78/100\n",
            "7/7 [==============================] - 1s 157ms/step - loss: 0.0043 - accuracy: 0.9974 - val_loss: 0.2387 - val_accuracy: 0.9444\n",
            "Epoch 79/100\n",
            "7/7 [==============================] - 1s 157ms/step - loss: 0.0182 - accuracy: 0.9892 - val_loss: 0.2430 - val_accuracy: 0.9333\n",
            "Epoch 80/100\n",
            "7/7 [==============================] - 1s 160ms/step - loss: 0.0161 - accuracy: 0.9892 - val_loss: 0.2631 - val_accuracy: 0.9222\n",
            "Epoch 81/100\n",
            "7/7 [==============================] - 1s 155ms/step - loss: 0.0097 - accuracy: 0.9951 - val_loss: 0.2576 - val_accuracy: 0.9222\n",
            "Epoch 82/100\n",
            "7/7 [==============================] - 1s 155ms/step - loss: 0.0075 - accuracy: 0.9951 - val_loss: 0.2550 - val_accuracy: 0.9222\n",
            "Epoch 83/100\n",
            "7/7 [==============================] - 1s 156ms/step - loss: 0.0075 - accuracy: 0.9915 - val_loss: 0.2645 - val_accuracy: 0.9111\n",
            "Epoch 84/100\n",
            "7/7 [==============================] - 1s 157ms/step - loss: 0.0041 - accuracy: 0.9955 - val_loss: 0.2617 - val_accuracy: 0.9111\n",
            "Epoch 85/100\n",
            "7/7 [==============================] - 1s 155ms/step - loss: 0.0055 - accuracy: 0.9974 - val_loss: 0.2711 - val_accuracy: 0.9111\n",
            "Epoch 86/100\n",
            "7/7 [==============================] - 1s 158ms/step - loss: 0.0060 - accuracy: 0.9981 - val_loss: 0.2735 - val_accuracy: 0.9000\n",
            "Epoch 87/100\n",
            "7/7 [==============================] - 1s 157ms/step - loss: 0.0109 - accuracy: 0.9951 - val_loss: 0.2445 - val_accuracy: 0.9333\n",
            "Epoch 88/100\n",
            "7/7 [==============================] - 1s 157ms/step - loss: 0.0132 - accuracy: 0.9931 - val_loss: 0.2605 - val_accuracy: 0.9111\n",
            "Epoch 89/100\n",
            "7/7 [==============================] - 1s 159ms/step - loss: 0.0060 - accuracy: 0.9981 - val_loss: 0.2543 - val_accuracy: 0.9333\n",
            "Epoch 90/100\n",
            "7/7 [==============================] - 1s 160ms/step - loss: 0.0032 - accuracy: 0.9981 - val_loss: 0.2812 - val_accuracy: 0.8889\n",
            "Epoch 91/100\n",
            "7/7 [==============================] - 1s 156ms/step - loss: 0.0076 - accuracy: 0.9951 - val_loss: 0.2691 - val_accuracy: 0.9111\n",
            "Epoch 92/100\n",
            "7/7 [==============================] - 1s 155ms/step - loss: 0.0041 - accuracy: 0.9955 - val_loss: 0.2725 - val_accuracy: 0.9111\n",
            "Epoch 93/100\n",
            "7/7 [==============================] - 1s 157ms/step - loss: 0.0089 - accuracy: 0.9964 - val_loss: 0.2659 - val_accuracy: 0.9111\n",
            "Epoch 94/100\n",
            "7/7 [==============================] - 1s 157ms/step - loss: 0.0100 - accuracy: 0.9951 - val_loss: 0.2614 - val_accuracy: 0.9111\n",
            "Epoch 95/100\n",
            "7/7 [==============================] - 1s 160ms/step - loss: 0.0028 - accuracy: 0.9988 - val_loss: 0.2741 - val_accuracy: 0.9000\n",
            "Epoch 96/100\n",
            "7/7 [==============================] - 1s 158ms/step - loss: 0.0112 - accuracy: 0.9964 - val_loss: 0.3230 - val_accuracy: 0.8778\n",
            "Epoch 97/100\n",
            "7/7 [==============================] - 1s 158ms/step - loss: 0.0048 - accuracy: 0.9988 - val_loss: 0.2859 - val_accuracy: 0.8889\n",
            "Epoch 98/100\n",
            "7/7 [==============================] - 1s 159ms/step - loss: 0.0088 - accuracy: 0.9964 - val_loss: 0.2354 - val_accuracy: 0.9333\n",
            "Epoch 99/100\n",
            "7/7 [==============================] - 1s 159ms/step - loss: 0.0319 - accuracy: 0.9892 - val_loss: 0.2568 - val_accuracy: 0.9333\n",
            "Epoch 100/100\n",
            "7/7 [==============================] - 1s 156ms/step - loss: 0.0055 - accuracy: 0.9964 - val_loss: 0.2750 - val_accuracy: 0.9111\n"
          ],
          "name": "stdout"
        },
        {
          "output_type": "execute_result",
          "data": {
            "text/plain": [
              "<tensorflow.python.keras.callbacks.History at 0x7f91f00aeb50>"
            ]
          },
          "metadata": {
            "tags": []
          },
          "execution_count": 21
        }
      ]
    },
    {
      "cell_type": "code",
      "metadata": {
        "id": "ihwRH-vwqn5q"
      },
      "source": [
        "import os"
      ],
      "execution_count": 23,
      "outputs": []
    },
    {
      "cell_type": "code",
      "metadata": {
        "colab": {
          "base_uri": "https://localhost:8080/"
        },
        "id": "_2lQ6VVfnlWs",
        "outputId": "edc861ce-5581-4650-e0e9-50a2ee80bd9d"
      },
      "source": [
        "count = 0\n",
        "videoFile = \"Tom and Jerry 3.mp4\"\n",
        "cap = cv2.VideoCapture(videoFile)\n",
        "frameRate = cap.get(5) #frame rate\n",
        "x=1\n",
        "while(cap.isOpened()):\n",
        "    frameId = cap.get(1) #current frame number\n",
        "    ret, frame = cap.read()\n",
        "    if (ret != True):\n",
        "        break\n",
        "    if (frameId % math.floor(frameRate) == 0):\n",
        "        filename =\"test%d.jpg\" % count;count+=1\n",
        "        cv2.imwrite(os.path.join('/content/images', filename), frame)\n",
        "        cv2.imwrite(filename, frame)\n",
        "cap.release()\n",
        "print (\"Done!\")"
      ],
      "execution_count": 24,
      "outputs": [
        {
          "output_type": "stream",
          "text": [
            "Done!\n"
          ],
          "name": "stdout"
        }
      ]
    },
    {
      "cell_type": "code",
      "metadata": {
        "id": "4gTBTbjDnlZu"
      },
      "source": [
        "test = pd.read_csv('test.csv')"
      ],
      "execution_count": 26,
      "outputs": []
    },
    {
      "cell_type": "code",
      "metadata": {
        "id": "RmdpOpUmrFUJ"
      },
      "source": [
        "test_image = []\n",
        "for img_name in test.Image_ID:\n",
        "    img = plt.imread('' + img_name)\n",
        "    test_image.append(img)\n",
        "test_img = np.array(test_image)"
      ],
      "execution_count": 27,
      "outputs": []
    },
    {
      "cell_type": "code",
      "metadata": {
        "colab": {
          "base_uri": "https://localhost:8080/",
          "height": 257
        },
        "id": "bolHHuE_nlc8",
        "outputId": "c10f7433-d216-4253-9453-71c8e3f0da4d"
      },
      "source": [
        "img = plt.imread('test0.jpg')   # reading image using its name\n",
        "plt.imshow(img)"
      ],
      "execution_count": 30,
      "outputs": [
        {
          "output_type": "execute_result",
          "data": {
            "text/plain": [
              "<matplotlib.image.AxesImage at 0x7f91ee56dc50>"
            ]
          },
          "metadata": {
            "tags": []
          },
          "execution_count": 30
        },
        {
          "output_type": "display_data",
          "data": {
            "image/png": "[encoded data removed]",
            "text/plain": [
              "<Figure size 432x288 with 1 Axes>"
            ]
          },
          "metadata": {
            "tags": [],
            "needs_background": "light"
          }
        }
      ]
    },
    {
      "cell_type": "code",
      "metadata": {
        "id": "GxyburXwru2X"
      },
      "source": [
        "test_image = []\n",
        "for i in range(0,test_img.shape[0]):\n",
        "    a = resize(test_img[i], preserve_range=True, output_shape=(224,224)).astype(int)\n",
        "    test_image.append(a)\n",
        "test_image = np.array(test_image)"
      ],
      "execution_count": 31,
      "outputs": []
    },
    {
      "cell_type": "code",
      "metadata": {
        "colab": {
          "base_uri": "https://localhost:8080/"
        },
        "id": "m24IStOJto3W",
        "outputId": "312f2cba-2fd8-43a2-db3e-3b07fdb9b85d"
      },
      "source": [
        "test_image"
      ],
      "execution_count": 35,
      "outputs": [
        {
          "output_type": "execute_result",
          "data": {
            "text/plain": [
              "array([[0., 0., 0., ..., 0., 0., 0.],\n",
              "       [0., 0., 0., ..., 0., 0., 0.],\n",
              "       [0., 0., 0., ..., 0., 0., 0.],\n",
              "       ...,\n",
              "       [0., 0., 0., ..., 0., 0., 0.],\n",
              "       [0., 0., 0., ..., 0., 0., 0.],\n",
              "       [0., 0., 0., ..., 0., 0., 0.]], dtype=float32)"
            ]
          },
          "metadata": {
            "tags": []
          },
          "execution_count": 35
        }
      ]
    },
    {
      "cell_type": "code",
      "metadata": {
        "id": "QNGOicMTnlgr"
      },
      "source": [
        "# preprocessing the images\n",
        "test_image = preprocess_input(test_image)\n",
        "\n",
        "# extracting features from the images using pretrained model\n",
        "test_image = base_model.predict(test_image)\n",
        "\n",
        "# converting the images to 1-D form\n",
        "test_image = test_image.reshape(186, 7*7*512)\n",
        "\n",
        "# zero centered images\n",
        "test_image = test_image/test_image.max()"
      ],
      "execution_count": 32,
      "outputs": []
    },
    {
      "cell_type": "code",
      "metadata": {
        "colab": {
          "base_uri": "https://localhost:8080/"
        },
        "id": "N1Yy9EgKsIiP",
        "outputId": "5ffd65a8-8439-402c-8732-943f27375bc5"
      },
      "source": [
        "predictions = model.predict_classes(test_image)"
      ],
      "execution_count": 33,
      "outputs": [
        {
          "output_type": "stream",
          "text": [
            "/usr/local/lib/python3.7/dist-packages/tensorflow/python/keras/engine/sequential.py:450: UserWarning: `model.predict_classes()` is deprecated and will be removed after 2021-01-01. Please use instead:* `np.argmax(model.predict(x), axis=-1)`,   if your model does multi-class classification   (e.g. if it uses a `softmax` last-layer activation).* `(model.predict(x) > 0.5).astype(\"int32\")`,   if your model does binary classification   (e.g. if it uses a `sigmoid` last-layer activation).\n",
            "  warnings.warn('`model.predict_classes()` is deprecated and '\n"
          ],
          "name": "stderr"
        }
      ]
    },
    {
      "cell_type": "code",
      "metadata": {
        "colab": {
          "base_uri": "https://localhost:8080/"
        },
        "id": "kHvzSvz_nlkE",
        "outputId": "00de69ed-0dd7-46bf-8281-cd9683f05890"
      },
      "source": [
        "print(\"The screen time of JERRY is\", predictions[predictions==1].shape[0], \"seconds\")\n",
        "print(\"The screen time of TOM is\", predictions[predictions==2].shape[0], \"seconds\")"
      ],
      "execution_count": 34,
      "outputs": [
        {
          "output_type": "stream",
          "text": [
            "The screen time of JERRY is 0 seconds\n",
            "The screen time of TOM is 81 seconds\n"
          ],
          "name": "stdout"
        }
      ]
    }
  ]
}